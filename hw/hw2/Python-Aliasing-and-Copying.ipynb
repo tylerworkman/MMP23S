{
 "cells": [
  {
   "cell_type": "code",
   "execution_count": 12,
   "id": "3c0a03a3",
   "metadata": {},
   "outputs": [
    {
     "name": "stdout",
     "output_type": "stream",
     "text": [
      "140349062441392 140349062441392\n",
      "5 3 5\n",
      "140349062441392 140349062441328 140349062441392\n",
      "140349062441392 140349062441392\n"
     ]
    }
   ],
   "source": [
    "a = 5\n",
    "b = a\n",
    "print (id(a), id(b))\n",
    " \n",
    "c = b\n",
    "b = 3\n",
    "print (a,b,c)\n",
    "print (id(a),id(b),id(c))\n",
    " \n",
    "b = a\n",
    "b = 5\n",
    "print (id(a), id(b))"
   ]
  },
  {
   "cell_type": "code",
   "execution_count": 5,
   "id": "a69b6591",
   "metadata": {},
   "outputs": [
    {
     "name": "stdout",
     "output_type": "stream",
     "text": [
      "140348005758528 140348005758528\n",
      "[5, 1] [5, 1]\n",
      "140348005758528 140348005758528\n"
     ]
    }
   ],
   "source": [
    "a = [5]\n",
    "b = a\n",
    "print (id(a), id(b))\n",
    "\n",
    "b.append(1)\n",
    "print (a,b)\n",
    "print (id(a),id(b))"
   ]
  },
  {
   "cell_type": "code",
   "execution_count": 6,
   "id": "f989d285",
   "metadata": {},
   "outputs": [
    {
     "name": "stdout",
     "output_type": "stream",
     "text": [
      "[5] [5]\n",
      "140348005745856 140349068230208\n",
      "[5] [5]\n",
      "140348005745856 140348005765504\n"
     ]
    }
   ],
   "source": [
    "a = [5]\n",
    "b = list(a)\n",
    "print (a,b)\n",
    "print (id(a), id(b))\n",
    " \n",
    "b = a[:]\n",
    "print (a,b)\n",
    "print (id(a), id(b))"
   ]
  },
  {
   "cell_type": "code",
   "execution_count": 7,
   "id": "4f3fe404",
   "metadata": {},
   "outputs": [
    {
     "name": "stdout",
     "output_type": "stream",
     "text": [
      "140349068321264 140349068321264\n",
      "140349068321264 140349068321264\n"
     ]
    }
   ],
   "source": [
    "a = (5,)\n",
    "b = tuple(a)\n",
    "print (id(a), id(b))\n",
    " \n",
    "b = a[:]\n",
    "print (id(a), id(b))"
   ]
  },
  {
   "cell_type": "code",
   "execution_count": null,
   "id": "a9f7d01c",
   "metadata": {},
   "outputs": [],
   "source": []
  }
 ],
 "metadata": {
  "kernelspec": {
   "display_name": "Python 3 (ipykernel)",
   "language": "python",
   "name": "python3"
  },
  "language_info": {
   "codemirror_mode": {
    "name": "ipython",
    "version": 3
   },
   "file_extension": ".py",
   "mimetype": "text/x-python",
   "name": "python",
   "nbconvert_exporter": "python",
   "pygments_lexer": "ipython3",
   "version": "3.9.12"
  }
 },
 "nbformat": 4,
 "nbformat_minor": 5
}
