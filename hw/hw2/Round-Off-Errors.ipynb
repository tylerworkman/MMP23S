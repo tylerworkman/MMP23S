{
 "cells": [
  {
   "cell_type": "code",
   "execution_count": 1,
   "id": "f457f92d",
   "metadata": {},
   "outputs": [
    {
     "name": "stdout",
     "output_type": "stream",
     "text": [
      "With 1 times sqrt and then 1 times **2, the number 2.0 becomes: 2.0000000000000004\n",
      "With 2 times sqrt and then 2 times **2, the number 2.0 becomes: 1.9999999999999996\n",
      "With 3 times sqrt and then 3 times **2, the number 2.0 becomes: 1.9999999999999996\n",
      "With 4 times sqrt and then 4 times **2, the number 2.0 becomes: 1.9999999999999964\n",
      "With 5 times sqrt and then 5 times **2, the number 2.0 becomes: 1.9999999999999964\n",
      "With 6 times sqrt and then 6 times **2, the number 2.0 becomes: 1.9999999999999964\n",
      "With 7 times sqrt and then 7 times **2, the number 2.0 becomes: 1.9999999999999714\n",
      "With 8 times sqrt and then 8 times **2, the number 2.0 becomes: 2.0000000000000235\n",
      "With 9 times sqrt and then 9 times **2, the number 2.0 becomes: 2.0000000000000235\n",
      "With 10 times sqrt and then 10 times **2, the number 2.0 becomes: 2.0000000000000235\n",
      "With 11 times sqrt and then 11 times **2, the number 2.0 becomes: 2.0000000000000235\n",
      "With 12 times sqrt and then 12 times **2, the number 2.0 becomes: 1.9999999999991336\n",
      "With 13 times sqrt and then 13 times **2, the number 2.0 becomes: 1.9999999999973292\n",
      "With 14 times sqrt and then 14 times **2, the number 2.0 becomes: 1.9999999999973292\n",
      "With 15 times sqrt and then 15 times **2, the number 2.0 becomes: 1.9999999999973292\n",
      "With 16 times sqrt and then 16 times **2, the number 2.0 becomes: 2.0000000000117746\n",
      "With 17 times sqrt and then 17 times **2, the number 2.0 becomes: 2.0000000000408580\n",
      "With 18 times sqrt and then 18 times **2, the number 2.0 becomes: 2.0000000000408580\n",
      "With 19 times sqrt and then 19 times **2, the number 2.0 becomes: 2.0000000001573586\n",
      "With 20 times sqrt and then 20 times **2, the number 2.0 becomes: 2.0000000001573586\n",
      "With 21 times sqrt and then 21 times **2, the number 2.0 becomes: 2.0000000001573586\n",
      "With 22 times sqrt and then 22 times **2, the number 2.0 becomes: 2.0000000010885857\n",
      "With 23 times sqrt and then 23 times **2, the number 2.0 becomes: 2.0000000029511749\n",
      "With 24 times sqrt and then 24 times **2, the number 2.0 becomes: 2.0000000066771721\n",
      "With 25 times sqrt and then 25 times **2, the number 2.0 becomes: 2.0000000066771721\n",
      "With 26 times sqrt and then 26 times **2, the number 2.0 becomes: 1.9999999917774933\n",
      "With 27 times sqrt and then 27 times **2, the number 2.0 becomes: 1.9999999917774933\n",
      "With 28 times sqrt and then 28 times **2, the number 2.0 becomes: 1.9999999917774933\n",
      "With 29 times sqrt and then 29 times **2, the number 2.0 becomes: 1.9999999917774933\n",
      "With 30 times sqrt and then 30 times **2, the number 2.0 becomes: 1.9999999917774933\n",
      "With 31 times sqrt and then 31 times **2, the number 2.0 becomes: 1.9999999917774933\n",
      "With 32 times sqrt and then 32 times **2, the number 2.0 becomes: 1.9999990380770896\n",
      "With 33 times sqrt and then 33 times **2, the number 2.0 becomes: 1.9999971307544144\n",
      "With 34 times sqrt and then 34 times **2, the number 2.0 becomes: 1.9999971307544144\n",
      "With 35 times sqrt and then 35 times **2, the number 2.0 becomes: 1.9999971307544144\n",
      "With 36 times sqrt and then 36 times **2, the number 2.0 becomes: 1.9999971307544144\n",
      "With 37 times sqrt and then 37 times **2, the number 2.0 becomes: 1.9999971307544144\n",
      "With 38 times sqrt and then 38 times **2, the number 2.0 becomes: 1.9999360966436217\n",
      "With 39 times sqrt and then 39 times **2, the number 2.0 becomes: 1.9999360966436217\n",
      "With 40 times sqrt and then 40 times **2, the number 2.0 becomes: 1.9999360966436217\n",
      "With 41 times sqrt and then 41 times **2, the number 2.0 becomes: 1.9994478907329654\n",
      "With 42 times sqrt and then 42 times **2, the number 2.0 becomes: 1.9984718365144798\n",
      "With 43 times sqrt and then 43 times **2, the number 2.0 becomes: 1.9965211562778555\n",
      "With 44 times sqrt and then 44 times **2, the number 2.0 becomes: 1.9965211562778555\n",
      "With 45 times sqrt and then 45 times **2, the number 2.0 becomes: 1.9887374575497223\n",
      "With 46 times sqrt and then 46 times **2, the number 2.0 becomes: 1.9887374575497223\n",
      "With 47 times sqrt and then 47 times **2, the number 2.0 becomes: 1.9887374575497223\n",
      "With 48 times sqrt and then 48 times **2, the number 2.0 becomes: 1.9887374575497223\n",
      "With 49 times sqrt and then 49 times **2, the number 2.0 becomes: 1.8682459487159784\n",
      "With 50 times sqrt and then 50 times **2, the number 2.0 becomes: 1.6487212645509468\n",
      "With 51 times sqrt and then 51 times **2, the number 2.0 becomes: 1.6487212645509468\n",
      "With 52 times sqrt and then 52 times **2, the number 2.0 becomes: 1.0000000000000000\n",
      "With 53 times sqrt and then 53 times **2, the number 2.0 becomes: 1.0000000000000000\n",
      "With 54 times sqrt and then 54 times **2, the number 2.0 becomes: 1.0000000000000000\n",
      "With 55 times sqrt and then 55 times **2, the number 2.0 becomes: 1.0000000000000000\n",
      "With 56 times sqrt and then 56 times **2, the number 2.0 becomes: 1.0000000000000000\n",
      "With 57 times sqrt and then 57 times **2, the number 2.0 becomes: 1.0000000000000000\n",
      "With 58 times sqrt and then 58 times **2, the number 2.0 becomes: 1.0000000000000000\n",
      "With 59 times sqrt and then 59 times **2, the number 2.0 becomes: 1.0000000000000000\n"
     ]
    }
   ],
   "source": [
    "from math import sqrt\n",
    "for n in range(1, 60):\n",
    "    r_org = 2.0\n",
    "    r = r_org\n",
    "    for i in range(n):\n",
    "        r = sqrt(r)\n",
    "    for i in range(n):\n",
    "        r = r ** 2\n",
    "    print ('With {} times sqrt and then {} times **2, the number {} becomes: {:.16f}'.format(n,n,r_org,r))"
   ]
  },
  {
   "cell_type": "code",
   "execution_count": null,
   "id": "7dcb32d6",
   "metadata": {},
   "outputs": [],
   "source": []
  }
 ],
 "metadata": {
  "kernelspec": {
   "display_name": "Python 3 (ipykernel)",
   "language": "python",
   "name": "python3"
  },
  "language_info": {
   "codemirror_mode": {
    "name": "ipython",
    "version": 3
   },
   "file_extension": ".py",
   "mimetype": "text/x-python",
   "name": "python",
   "nbconvert_exporter": "python",
   "pygments_lexer": "ipython3",
   "version": "3.9.12"
  }
 },
 "nbformat": 4,
 "nbformat_minor": 5
}
